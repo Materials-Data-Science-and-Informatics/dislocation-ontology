{
 "cells": [
  {
   "cell_type": "code",
   "execution_count": 2,
   "id": "opposite-psychiatry",
   "metadata": {},
   "outputs": [],
   "source": [
    "import numpy as np\n",
    "import h5py"
   ]
  },
  {
   "cell_type": "code",
   "execution_count": 3,
   "id": "stylish-athletics",
   "metadata": {},
   "outputs": [],
   "source": [
    "file_path = \"./model_ddd_data.h5\""
   ]
  },
  {
   "cell_type": "code",
   "execution_count": 4,
   "id": "lonely-magnitude",
   "metadata": {},
   "outputs": [],
   "source": [
    "# import data\n",
    "data = h5py.File(file_path, \"r\")"
   ]
  },
  {
   "cell_type": "markdown",
   "id": "pressed-passenger",
   "metadata": {},
   "source": [
    "### Groups & Keys\n",
    "\n",
    "**Keys:** Time steps \n",
    "\n",
    "**Groups:** Accessing is by the keys. Each group has their own datasets that corresponds to the key of the group (time step)."
   ]
  },
  {
   "cell_type": "code",
   "execution_count": 5,
   "id": "dirty-assistant",
   "metadata": {},
   "outputs": [
    {
     "data": {
      "text/plain": [
       "<KeysViewHDF5 ['00000000', '00000010', '00000020', '00000030', '00000040', '00000050', '00000060', '00000070', '00000080', '00000090']>"
      ]
     },
     "execution_count": 5,
     "metadata": {},
     "output_type": "execute_result"
    }
   ],
   "source": [
    "data.keys()"
   ]
  },
  {
   "cell_type": "code",
   "execution_count": 6,
   "id": "optimum-vienna",
   "metadata": {},
   "outputs": [
    {
     "data": {
      "text/plain": [
       "<HDF5 group \"/00000050\" (3 members)>"
      ]
     },
     "execution_count": 6,
     "metadata": {},
     "output_type": "execute_result"
    }
   ],
   "source": [
    "data['00000050']"
   ]
  },
  {
   "cell_type": "markdown",
   "id": "rental-reach",
   "metadata": {},
   "source": [
    "### Attributes\n",
    "\n",
    "Little information pieces for each time step are attached as attributes to each group. \n",
    "\n",
    "\n",
    "\n",
    "**From docs.h5py.org:** *Attributes are small named pieces of data attached directly to `Group` and `Dataset` objects. This is the official way to store metadata in HDF5.*"
   ]
  },
  {
   "cell_type": "code",
   "execution_count": 7,
   "id": "fixed-combat",
   "metadata": {
    "scrolled": true
   },
   "outputs": [
    {
     "data": {
      "text/plain": [
       "['runID',\n",
       " 'time [b/cs]',\n",
       " 'dt [b/cs]',\n",
       " 'betaP_11',\n",
       " 'betaP_12',\n",
       " 'betaP_13',\n",
       " 'betaP_21',\n",
       " 'betaP_22',\n",
       " 'betaP_23',\n",
       " 'betaP_31',\n",
       " 'betaP_32',\n",
       " 'betaP_33',\n",
       " 'trace(betaP)',\n",
       " 'dotBetaP_11 [cs/b]',\n",
       " 'dotBetaP_12 [cs/b]',\n",
       " 'dotBetaP_13 [cs/b]',\n",
       " 'dotBetaP_21 [cs/b]',\n",
       " 'dotBetaP_22 [cs/b]',\n",
       " 'dotBetaP_23 [cs/b]',\n",
       " 'dotBetaP_31 [cs/b]',\n",
       " 'dotBetaP_32 [cs/b]',\n",
       " 'dotBetaP_33 [cs/b]',\n",
       " 'trace(dotBetaP) [cs/b]',\n",
       " 'glissile length [b]',\n",
       " 'sessile length [b]',\n",
       " 'boundary length [b]',\n",
       " 'grain boundary length [b]',\n",
       " 'SlipSystem 0 length [b]',\n",
       " 'SlipSystem 1 length [b]',\n",
       " 'SlipSystem 2 length [b]',\n",
       " 'SlipSystem 3 length [b]',\n",
       " 'SlipSystem 4 length [b]',\n",
       " 'SlipSystem 5 length [b]',\n",
       " 'SlipSystem 6 length [b]',\n",
       " 'SlipSystem 7 length [b]',\n",
       " 'SlipSystem 8 length [b]',\n",
       " 'SlipSystem 9 length [b]',\n",
       " 'SlipSystem 10 length [b]',\n",
       " 'SlipSystem 11 length [b]',\n",
       " 'SlipSystem 12 length [b]',\n",
       " 'SlipSystem 13 length [b]',\n",
       " 'SlipSystem 14 length [b]',\n",
       " 'SlipSystem 15 length [b]',\n",
       " 'SlipSystem 16 length [b]',\n",
       " 'SlipSystem 17 length [b]',\n",
       " 'SlipSystem 18 length [b]',\n",
       " 'SlipSystem 19 length [b]',\n",
       " 'SlipSystem 20 length [b]',\n",
       " 'SlipSystem 21 length [b]',\n",
       " 'SlipSystem 22 length [b]',\n",
       " 'SlipSystem 23 length [b]',\n",
       " 'SlipSystem 0 strain [-]',\n",
       " 'SlipSystem 1 strain [-]',\n",
       " 'SlipSystem 2 strain [-]',\n",
       " 'SlipSystem 3 strain [-]',\n",
       " 'SlipSystem 4 strain [-]',\n",
       " 'SlipSystem 5 strain [-]',\n",
       " 'SlipSystem 6 strain [-]',\n",
       " 'SlipSystem 7 strain [-]',\n",
       " 'SlipSystem 8 strain [-]',\n",
       " 'SlipSystem 9 strain [-]',\n",
       " 'SlipSystem 10 strain [-]',\n",
       " 'SlipSystem 11 strain [-]',\n",
       " 'SlipSystem 12 strain [-]',\n",
       " 'SlipSystem 13 strain [-]',\n",
       " 'SlipSystem 14 strain [-]',\n",
       " 'SlipSystem 15 strain [-]',\n",
       " 'SlipSystem 16 strain [-]',\n",
       " 'SlipSystem 17 strain [-]',\n",
       " 'SlipSystem 18 strain [-]',\n",
       " 'SlipSystem 19 strain [-]',\n",
       " 'SlipSystem 20 strain [-]',\n",
       " 'SlipSystem 21 strain [-]',\n",
       " 'SlipSystem 22 strain [-]',\n",
       " 'SlipSystem 23 strain [-]',\n",
       " 'e_11',\n",
       " 'e_12',\n",
       " 'e_13',\n",
       " 'e_21',\n",
       " 'e_22',\n",
       " 'e_23',\n",
       " 'e_31',\n",
       " 'e_32',\n",
       " 'e_33',\n",
       " 's_11 [mu]',\n",
       " 's_12 [mu]',\n",
       " 's_13 [mu]',\n",
       " 's_21 [mu]',\n",
       " 's_22 [mu]',\n",
       " 's_23 [mu]',\n",
       " 's_31 [mu]',\n",
       " 's_32 [mu]',\n",
       " 's_33 [mu]']"
      ]
     },
     "execution_count": 7,
     "metadata": {},
     "output_type": "execute_result"
    }
   ],
   "source": [
    "list(data['00000050'].attrs.keys())"
   ]
  },
  {
   "cell_type": "code",
   "execution_count": null,
   "id": "dangerous-pulse",
   "metadata": {
    "scrolled": true
   },
   "outputs": [],
   "source": [
    "list(data['00000050'].attrs.values())"
   ]
  },
  {
   "cell_type": "code",
   "execution_count": null,
   "id": "monetary-click",
   "metadata": {
    "scrolled": true
   },
   "outputs": [],
   "source": [
    "list(data['00000060'].attrs.items())"
   ]
  },
  {
   "cell_type": "markdown",
   "id": "infectious-counter",
   "metadata": {},
   "source": [
    "### Datasets\n",
    "\n",
    "At each time step, there are collections of different type of data. \n",
    "\n",
    "**Example:** at `time_step = 50`, there are approx. 150000 vertices and each vertex has properties such as coordinates, id etc. The all information on vertices at the time step 50 is one dataset. At the same time step, there are approx. 40000 junctions. Similarly, each jucntion also has certain properties such as id and surface_id. The infromation of the junctions at `time_step = 50` is another data set."
   ]
  },
  {
   "cell_type": "code",
   "execution_count": 8,
   "id": "checked-cotton",
   "metadata": {},
   "outputs": [
    {
     "data": {
      "text/plain": [
       "<KeysViewHDF5 ['node data', 'loop data', 'linker data']>"
      ]
     },
     "execution_count": 8,
     "metadata": {},
     "output_type": "execute_result"
    }
   ],
   "source": [
    "data['00000050'].keys()"
   ]
  },
  {
   "cell_type": "code",
   "execution_count": 10,
   "id": "organized-conference",
   "metadata": {},
   "outputs": [],
   "source": [
    "node_data_50 = data['00000050']['node data']"
   ]
  },
  {
   "cell_type": "code",
   "execution_count": 11,
   "id": "bf43c877-d477-42a3-b411-8419e89e0dc5",
   "metadata": {},
   "outputs": [],
   "source": [
    "loop_data_50 = data['00000050']['loop data']"
   ]
  },
  {
   "cell_type": "code",
   "execution_count": 12,
   "id": "cbcc037b-1d45-49f3-9ec1-1b2873908f94",
   "metadata": {},
   "outputs": [],
   "source": [
    "segment_data_50 = data['00000050']['linker data']"
   ]
  },
  {
   "cell_type": "markdown",
   "id": "blessed-uganda",
   "metadata": {},
   "source": [
    "### dtype\n",
    "\n",
    "Each dataset has its own unique `dtype`. By this way, property names and their individual data types can be stored."
   ]
  },
  {
   "cell_type": "code",
   "execution_count": 13,
   "id": "administrative-scanner",
   "metadata": {},
   "outputs": [
    {
     "data": {
      "text/plain": [
       "dtype([('id', '<i8'), ('coordinates', '<f8', (3,)), ('velocity', '<f8', (3,)), ('previous_velocity', '<f8', (3,)), ('velocity_reduction_param', '<f8'), ('component_id', '<i8'), ('mesh_location', '<i8'), ('master_id', '<i8')])"
      ]
     },
     "execution_count": 13,
     "metadata": {},
     "output_type": "execute_result"
    }
   ],
   "source": [
    "node_data_50.dtype"
   ]
  },
  {
   "cell_type": "code",
   "execution_count": 14,
   "id": "c8027dcb-79c1-4934-a91c-fd17ded5a1cb",
   "metadata": {},
   "outputs": [
    {
     "data": {
      "text/plain": [
       "dtype([('id', '<i8'), ('burgers_vector', '<f8', (3,)), ('plane_normal', '<f8', (3,)), ('plane_origin', '<f8', (3,)), ('grain_id', '<i8'), ('loop_type', '<i8'), ('loop_length', '<f8', (3,)), ('slip_area', '<f8')])"
      ]
     },
     "execution_count": 14,
     "metadata": {},
     "output_type": "execute_result"
    }
   ],
   "source": [
    "loop_data_50.dtype"
   ]
  },
  {
   "cell_type": "code",
   "execution_count": 15,
   "id": "1c405bd3-8308-4b1e-a3f7-984caffbc86b",
   "metadata": {},
   "outputs": [
    {
     "data": {
      "text/plain": [
       "dtype([('loop_id', '<i8'), ('start_node_id', '<i8'), ('end_node_id', '<i8'), ('mesh_location', '<i8')])"
      ]
     },
     "execution_count": 15,
     "metadata": {},
     "output_type": "execute_result"
    }
   ],
   "source": [
    "segment_data_50.dtype"
   ]
  },
  {
   "cell_type": "code",
   "execution_count": null,
   "id": "speaking-expression",
   "metadata": {},
   "outputs": [],
   "source": [
    "# number of nodes\n",
    "len(node_data_50)"
   ]
  },
  {
   "cell_type": "code",
   "execution_count": null,
   "id": "north-playback",
   "metadata": {},
   "outputs": [],
   "source": [
    "# node data with id = 10\n",
    "node_data_50[10]"
   ]
  },
  {
   "cell_type": "code",
   "execution_count": null,
   "id": "corresponding-fundamental",
   "metadata": {},
   "outputs": [],
   "source": [
    "# coordinates of node 10\n",
    "node_data_50[10][1]"
   ]
  },
  {
   "cell_type": "code",
   "execution_count": null,
   "id": "ongoing-spine",
   "metadata": {},
   "outputs": [],
   "source": [
    "# coordinates of node 10\n",
    "node_data_50[10][\"coordinates\"]"
   ]
  },
  {
   "cell_type": "code",
   "execution_count": null,
   "id": "collectible-garbage",
   "metadata": {},
   "outputs": [],
   "source": []
  },
  {
   "cell_type": "code",
   "execution_count": null,
   "id": "alternative-inspiration",
   "metadata": {},
   "outputs": [],
   "source": []
  },
  {
   "cell_type": "code",
   "execution_count": null,
   "id": "moderate-cooperation",
   "metadata": {},
   "outputs": [],
   "source": []
  }
 ],
 "metadata": {
  "kernelspec": {
   "display_name": "Python 3 (ipykernel)",
   "language": "python",
   "name": "python3"
  },
  "language_info": {
   "codemirror_mode": {
    "name": "ipython",
    "version": 3
   },
   "file_extension": ".py",
   "mimetype": "text/x-python",
   "name": "python",
   "nbconvert_exporter": "python",
   "pygments_lexer": "ipython3",
   "version": "3.8.2"
  }
 },
 "nbformat": 4,
 "nbformat_minor": 5
}
